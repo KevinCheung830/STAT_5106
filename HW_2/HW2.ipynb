{
 "cells": [
  {
   "cell_type": "markdown",
   "id": "0aa740c5",
   "metadata": {},
   "source": [
    "# HW2\n"
   ]
  },
  {
   "cell_type": "markdown",
   "id": "3bb9c407",
   "metadata": {},
   "source": [
    "# Q1\n",
    "Flow\n",
    "```\n",
    "User Input\n",
    "    ↓\n",
    "validate_entries()\n",
    "    ↓\n",
    "simulate_draw() → generate 7 numbers → sort & split\n",
    "    ↓\n",
    "calculate_prize() → count matches → determine prize\n",
    "    ↓\n",
    "calculate_total_prizes() → sum all prizes\n",
    "    ↓\n",
    "Formatted Output\n",
    "```"
   ]
  },
  {
   "cell_type": "code",
   "execution_count": 77,
   "id": "26ecfba1",
   "metadata": {},
   "outputs": [],
   "source": [
    "import numpy as np\n",
    "from typing import List, Tuple"
   ]
  },
  {
   "cell_type": "code",
   "execution_count": 85,
   "id": "a3589cff",
   "metadata": {},
   "outputs": [],
   "source": [
    "def validate_entries(entry: List[int]) -> bool:\n",
    "    \"\"\"\n",
    "    Validate a single Mark 6 entry.\n",
    "    \n",
    "    Args:\n",
    "        entry: List of 6 unique integers between 1 and 49\n",
    "    \n",
    "    Returns:\n",
    "        True if valid, False otherwise\n",
    "    \"\"\"\n",
    "    try:\n",
    "        if not isinstance(entry, list):\n",
    "            raise ValueError(\"Entry must be a list\")\n",
    "        if len(entry) != 6:\n",
    "            raise ValueError(\"Entry must contain exactly 6 numbers\")\n",
    "        if len(set(entry)) != 6:\n",
    "            raise ValueError(\"Entry numbers must be unique\")\n",
    "        for number in entry:\n",
    "            if not isinstance(number, int) or not (1 <= number <= 49):\n",
    "                raise ValueError(\"Each number must be an integer between 1 and 49\")\n",
    "        return True\n",
    "    except Exception as e:\n",
    "        print(f\"Error in validate_entries: {e}\")\n",
    "        return False"
   ]
  },
  {
   "cell_type": "code",
   "execution_count": null,
   "id": "d667031e",
   "metadata": {},
   "outputs": [],
   "source": [
    "# simulate_draw() → generate 7 numbers → subseting first 6 and last 1 , sort the first 6\n",
    "def simulate_draw(seed) -> Tuple[np.ndarray, int]:\n",
    "    np.random.seed(seed)  \n",
    "\n",
    "    # generate 7 numbers\n",
    "    numbers = np.random.choice(np.arange(1, 50), size=7, replace=False)\n",
    "\n",
    "    # subseting first 6 and last 1 , sort the first 6 and format the output\n",
    "    first_six = np.sort(numbers[:6])\n",
    "    extra_number = int(numbers[-1])\n",
    "    sorted_six = np.sort(first_six)\n",
    "    \n",
    "    return (sorted_six.tolist(), extra_number)"
   ]
  },
  {
   "cell_type": "code",
   "execution_count": 80,
   "id": "8d1f4737",
   "metadata": {},
   "outputs": [],
   "source": [
    "def calculate_prize(entry_numbers: List[int], draw: Tuple[List[int], int]):\n",
    "    \"\"\"\n",
    "    Calculate the prize for a Mark 6 entry.\n",
    "    \n",
    "    Args:\n",
    "        entry_numbers: List of 6 user-chosen numbers\n",
    "        draw: Tuple of (drawn 6 numbers as list, extra number as int)\n",
    "    \n",
    "    Returns:\n",
    "        Tuple: (prize_name, prize_amount, matching_count)\n",
    "    \"\"\"\n",
    "    # tuple unpacking of draw drawn_numbers_six and extra_number\n",
    "    drawn_numbers_six, extra_number = draw\n",
    "    matching_numbers = set(entry_numbers) & set(drawn_numbers_six)\n",
    "    matching_count = len(matching_numbers)\n",
    "    extra_matched = extra_number in entry_numbers\n",
    "\n",
    "    # Prize logic according to Mark 6 rules\n",
    "    if matching_count == 6:\n",
    "        return \"1st prize\", 61448360, matching_count\n",
    "    elif matching_count == 5 and extra_matched:\n",
    "        return \"2nd prize\", 498020, matching_count\n",
    "    elif matching_count == 5:\n",
    "        return \"3rd prize\", 38980, matching_count\n",
    "    elif matching_count == 4 and extra_matched:\n",
    "        return \"4th prize\", 9600, matching_count\n",
    "    elif matching_count == 4:\n",
    "        return \"5th prize\", 640, matching_count\n",
    "    elif matching_count == 3 and extra_matched:\n",
    "        return \"6th prize\", 320, matching_count\n",
    "    elif matching_count == 3:\n",
    "        return \"7th prize\", 40, matching_count\n",
    "    else:\n",
    "        return \"No prize\", 0, matching_count"
   ]
  },
  {
   "cell_type": "markdown",
   "id": "1a78b9f2",
   "metadata": {},
   "source": [
    "# Q1 Part A\n",
    "Write a function for inputting the list of your entry numbers, and the tuple with\n",
    "list of the draw numbers and the special number,\n",
    "then outputting the unit prize.\n",
    "\n",
    "```\n",
    "Example:\n",
    "Numbers of your entry: [11, 21, 22, 24, 32, 44]\n",
    "Numbers of draw: ([11, 21, 22, 25, 32, 44], 38)\n",
    "Unit prize of your entry: 38,980 (3rd prize)\n",
    "```"
   ]
  },
  {
   "cell_type": "code",
   "execution_count": 90,
   "id": "756befd0",
   "metadata": {},
   "outputs": [
    {
     "name": "stdout",
     "output_type": "stream",
     "text": [
      "Numbers of your entry: [1, 2, 3, 4, 5, 6]\n",
      "Numbers of draw: ([11, 15, 21, 31, 33, 49], 27)\n",
      "unit prize of your entry: ('No prize', 0, 0)\n"
     ]
    }
   ],
   "source": [
    "def part_a():\n",
    "    user_input = input(\"Enter 6 unique numbers between 1 and 49, separated by spaces: \")\n",
    "    user_numbers = [int(num) for num in user_input.strip().split()]\n",
    "    if validate_entries(user_numbers):\n",
    "        print(f\"Numbers of your entry: {user_numbers}\")\n",
    "        draw = simulate_draw(seed=2834633)\n",
    "        print(f\"Numbers of draw: {draw}\")\n",
    "        prize_info = calculate_prize(user_numbers, draw)\n",
    "        print(f\"unit prize of your entry: {prize_info}\")\n",
    "    else:\n",
    "        print(f\"Invalid entry. Please refer to error {validate_entries(user_numbers)} .\")\n",
    "part_a()"
   ]
  },
  {
   "cell_type": "markdown",
   "id": "1c565161",
   "metadata": {},
   "source": [
    "# Q1 PART B"
   ]
  },
  {
   "cell_type": "code",
   "execution_count": 97,
   "id": "cdcf3525",
   "metadata": {},
   "outputs": [
    {
     "name": "stdout",
     "output_type": "stream",
     "text": [
      "The first 3 draws after random seed is set:\n",
      "Draw 1: ([2, 5, 14, 15, 39, 43], 49)\n",
      "Draw 2: ([2, 5, 14, 15, 39, 43], 49)\n",
      "Draw 3: ([2, 5, 14, 15, 39, 43], 49)\n"
     ]
    }
   ],
   "source": [
    "def part_b(seed):\n",
    "    print(\"The first 3 draws after random seed is set:\")\n",
    "    for i in range(3):\n",
    "        draw_result = simulate_draw(seed)\n",
    "        print(f\"Draw {i+1}: {draw_result}\")\n",
    "part_b(1834633)\n"
   ]
  },
  {
   "cell_type": "markdown",
   "id": "b0a1eb08",
   "metadata": {},
   "source": [
    "# Q1 Part C\n",
    "Combining part a, b, write a function for:\n",
    "1. inputting the list of your entries numbers\n",
    "2. outputting the total of prizes from all entries.\n",
    "\n",
    "```\n",
    "Example:\n",
    "np.random.seed(1834633)\n",
    "Numbers of your entry: [2, 14, 18, 20, 39, 41]\n",
    "Output prize = 7th prize = $40"
   ]
  },
  {
   "cell_type": "code",
   "execution_count": null,
   "id": "3b50a3ac",
   "metadata": {},
   "outputs": [
    {
     "name": "stdout",
     "output_type": "stream",
     "text": [
      "np.random.seed(1834633)\n",
      "Numbers of your entries: [[2, 14, 18, 20, 39, 41]]\n",
      "Output prize = 7th prize = $40\n"
     ]
    }
   ],
   "source": [
    "def part_c(seed):\n",
    "    np.random.seed(seed)\n",
    "    print(f\"np.random.seed({seed})\")\n",
    "    cin_number_of_entries = input(\"Enter the number of entries you want to simulate: \")\n",
    "    \n",
    "    try:\n",
    "        num_entries = int(cin_number_of_entries)\n",
    "        if num_entries <= 0:\n",
    "            raise ValueError(\"Number of entries must be a positive integer.\")\n",
    "    except ValueError as ve:\n",
    "        print(f\"Invalid input: {ve}\")\n",
    "        return  # Exit the function on invalid input\n",
    "\n",
    "    entries = []\n",
    "    for i in range(num_entries):\n",
    "        user_input = input(f\"Enter 6 unique numbers for entry {i+1} (between 1 and 49, separated by spaces): \")\n",
    "        entry = [int(num) for num in user_input.strip().split()]\n",
    "        if validate_entries(entry):\n",
    "            entries.append(entry)\n",
    "        else:\n",
    "            print(\"Invalid entry. Skipping this entry.\")\n",
    "\n",
    "    print(f\"Numbers of your entries: {entries}\")\n",
    "    draw = simulate_draw(seed)\n",
    "    #print(f\"Numbers of draw: {draw}\")\n",
    "\n",
    "    total_prize = 0\n",
    "    for idx, entry in enumerate(entries):\n",
    "        prize_name, prize_amount, matching_count = calculate_prize(entry, draw)\n",
    "        #print(f\"Output prize of entry {idx+1}: {entry} → {prize_name} = ${prize_amount}\")\n",
    "        print(f\"Output prize = {prize_name} = ${prize_amount}\")\n",
    "        total_prize += prize_amount\n",
    "\n",
    "\n",
    "# Example usage:\n",
    "# sample result 2 14 18 20 39 41\n",
    "part_c(1834633)"
   ]
  },
  {
   "cell_type": "markdown",
   "id": "ff2c0060",
   "metadata": {},
   "source": [
    "# Q2\n",
    "I have complete the datacamp, may u kindly check the screenshot in blackboard submission"
   ]
  },
  {
   "cell_type": "markdown",
   "id": "90fb714a",
   "metadata": {},
   "source": [
    "# Q3"
   ]
  },
  {
   "cell_type": "code",
   "execution_count": null,
   "id": "ab7f9037",
   "metadata": {},
   "outputs": [],
   "source": [
    "import numpy as np\n",
    "\n",
    "# Create the matrices\n",
    "A = np.array([[1, 2, 3, 4],\n",
    "              [5, 6, 7, 8],\n",
    "              [9, 10, 11, 12],\n",
    "              [13, 14, 15, 16]])\n",
    "\n",
    "B = np.array([[4, 3, 2, 1],\n",
    "              [3, 6, 4, 2],\n",
    "              [2, 4, 6, 3],\n",
    "              [1, 2, 3, 4]])\n",
    "\n",
    "C = np.array([[4, 3, 2, 1],\n",
    "              [5, 6, 7, 8],\n",
    "              [8, 7, 6, 5],\n",
    "              [4, 3, 2, 1]])\n",
    "\n",
    "\n",
    "def part_3a():\n",
    "    trace_ABC = np.trace(A @ B @ C)\n",
    "    trace_CAB = np.trace(C @ A @ B)\n",
    "    trace_BCA = np.trace(B @ C @ A)\n",
    "    return np.allclose(trace_ABC, trace_CAB) and np.allclose(trace_ABC, trace_BCA)\n",
    "print(\"Part 3a:\", part_3a())\n",
    "\n",
    "def part_3b():\n",
    "    LHS = A.T @ B.T @ C.T\n",
    "    RHS = (C @ B @ A).T\n",
    "    return np.allclose(LHS, RHS)\n",
    "print(\"Part 3b:\", part_3b())\n",
    "\n",
    "def part_3c():\n",
    "    I_4 = np.eye(4)\n",
    "    D = I_4 + A\n",
    "    LHS =  np.linalg.inv(D @ B)\n",
    "    RHS = np.linalg.inv(B) @ np.linalg.inv(D)\n",
    "    return np.allclose(LHS, RHS)\n",
    "print(\"Part 3c:\", part_3c())"
   ]
  },
  {
   "cell_type": "markdown",
   "id": "3c139158",
   "metadata": {},
   "source": [
    "# Q4\n",
    "This complex regex pattern has two main parts:\n",
    "\n",
    "Part 1: (Prof\\.?|Professor)\n",
    "\n",
    "Captures either \"Prof\", \"Prof.\" or \"Professor\"\n",
    "\n",
    "| means \"OR\"\n",
    "\n",
    "\\.? means optional period (0 or 1 period)\n",
    "\n",
    "Part 2: Name pattern ([A-Z][a-z]+(?:-[a-z]+)?(?:\\s+[A-Z][a-z]+(?:-[a-z]+)?)+)\n",
    "\n",
    "[A-Z][a-z]+: Matches a word starting with capital letter followed by lowercase\n",
    "\n",
    "(?:-[a-z]+)?: Optional non-capturing group for hyphenated names (like \"Sik-yum\")\n",
    "\n",
    "(?:\\s+[A-Z][a-z]+(?:-[a-z]+)?)+: One or more additional name parts with spaces"
   ]
  },
  {
   "cell_type": "code",
   "execution_count": null,
   "id": "4d714f0a",
   "metadata": {},
   "outputs": [
    {
     "name": "stdout",
     "output_type": "stream",
     "text": [
      "Professor titles and names found:\n",
      "1. Prof. Howell Tong\n",
      "2. Professor Sik-yum Lee\n",
      "3. Professor Nai Ng Chan\n",
      "4. Professor Wing-hung Wong\n",
      "5. Professor Yeh Lam\n",
      "6. Professor Wing-hung Wong\n",
      "7. Professor Kim Hung Li\n",
      "8. Professor Jian Qing Fan\n",
      "9. Professor Ngai Hang Chan\n",
      "10. Professor Qi Man Shao\n",
      "11. Professor Xinyuan Song\n",
      "12. Professor Junhui Wang\n"
     ]
    }
   ],
   "source": [
    "import re\n",
    "\n",
    "def extract_professor_names_from_file(filename):\n",
    "    \"\"\"\n",
    "    Extract professor titles and names from an HTML file.\n",
    "    Returns a list of tuples: (title, name)\n",
    "    \"\"\"\n",
    "    try:\n",
    "        with open(filename, 'r', encoding='utf-8') as file:\n",
    "            html_content = file.read()\n",
    "        \n",
    "        # Pattern to capture title and name (handles hyphens and multiple words)\n",
    "        pattern = r'(Prof\\.?|Professor)\\s+([A-Z][a-z]+(?:-[a-z]+)?(?:\\s+[A-Z][a-z]+(?:-[a-z]+)?)+)'\n",
    "        \n",
    "        matches = re.findall(pattern, html_content)\n",
    "        \n",
    "        cleaned = []\n",
    "        for title, name in matches:\n",
    "            cleaned_name = re.sub(r'\\s+', ' ', name.strip())\n",
    "            cleaned.append((title, cleaned_name))\n",
    "        \n",
    "        return cleaned\n",
    "        \n",
    "    except FileNotFoundError:\n",
    "        print(f\"Error: File '{filename}' not found.\")\n",
    "        return []\n",
    "    except Exception as e:\n",
    "        print(f\"Error reading file: {e}\")\n",
    "        return []\n",
    "\n",
    "def q4():\n",
    "    filename = 'dept_hist.html'\n",
    "    professors = extract_professor_names_from_file(filename)\n",
    "    if professors:\n",
    "        print(\"Professor titles and names found:\")\n",
    "        for i, (title, prof) in enumerate(professors, 1):\n",
    "            #print(f\"{i}. {title} {prof}\")\n",
    "            print(f\"{title} {prof}\")\n",
    "    else:\n",
    "        print(\"No professor names found or error reading file.\")\n",
    "\n",
    "q4()"
   ]
  }
 ],
 "metadata": {
  "kernelspec": {
   "display_name": "Python 3",
   "language": "python",
   "name": "python3"
  },
  "language_info": {
   "codemirror_mode": {
    "name": "ipython",
    "version": 3
   },
   "file_extension": ".py",
   "mimetype": "text/x-python",
   "name": "python",
   "nbconvert_exporter": "python",
   "pygments_lexer": "ipython3",
   "version": "3.13.3"
  }
 },
 "nbformat": 4,
 "nbformat_minor": 5
}
