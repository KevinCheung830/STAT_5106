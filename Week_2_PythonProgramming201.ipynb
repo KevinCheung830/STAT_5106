{
  "nbformat": 4,
  "nbformat_minor": 0,
  "metadata": {
    "kernelspec": {
      "display_name": "Python 3",
      "language": "python",
      "name": "python3"
    },
    "language_info": {
      "codemirror_mode": {
        "name": "ipython",
        "version": 3
      },
      "file_extension": ".py",
      "mimetype": "text/x-python",
      "name": "python",
      "nbconvert_exporter": "python",
      "pygments_lexer": "ipython3",
      "version": "3.6.9"
    },
    "colab": {
      "provenance": []
    }
  },
  "cells": [
    {
      "cell_type": "markdown",
      "metadata": {
        "id": "BJLe9DwKSGjo"
      },
      "source": [
        "# Python Programming 201"
      ]
    },
    {
      "cell_type": "markdown",
      "source": [
        "For Checking hotkey, please press Ctrl-M, then press H."
      ],
      "metadata": {
        "id": "E_ows4a4GZNn"
      }
    },
    {
      "cell_type": "markdown",
      "metadata": {
        "id": "mE-8z3nHSGkL"
      },
      "source": [
        "# Functions, Exception Handling\n",
        "Functions"
      ]
    },
    {
      "cell_type": "code",
      "metadata": {
        "id": "sZxQlE6gSGkh",
        "outputId": "531b811d-87d8-48d9-f9ef-6250c35ed30f",
        "colab": {
          "base_uri": "https://localhost:8080/"
        }
      },
      "source": [
        "def your_bill(sandwich, lemon_tea):\n",
        "    print('Hello Welcome to mini coffee con')\n",
        "    print(f'you have ordered {sandwich} sandwiches, and {lemon_tea} cup of lemon tea')\n",
        "    return 15.0 * sandwich + 10.0 * lemon_tea\n",
        "\n",
        "your_bill(1, 2)"
      ],
      "execution_count": null,
      "outputs": [
        {
          "output_type": "stream",
          "name": "stdout",
          "text": [
            "Hello Welcome to mini coffee con\n",
            "you have ordered 1 sandwiches, and 2 cup of lemon tea\n"
          ]
        },
        {
          "output_type": "execute_result",
          "data": {
            "text/plain": [
              "35.0"
            ]
          },
          "metadata": {},
          "execution_count": 1
        }
      ]
    },
    {
      "cell_type": "markdown",
      "source": [],
      "metadata": {
        "id": "Qh6QYq7GNoW_"
      }
    },
    {
      "cell_type": "code",
      "metadata": {
        "id": "oUZQDMHnVhCu",
        "colab": {
          "base_uri": "https://localhost:8080/"
        },
        "outputId": "71dd4df5-3277-4690-dd76-832de08dcdab"
      },
      "source": [
        "\n",
        "# parameters with default values\n",
        "def your_bill(sandwich, lemon_tea, cold_ot=False):\n",
        "    print('Hello Welcome to mini coffee con')\n",
        "    print(f'you have ordered {sandwich} sandwiches, and {lemon_tea} cup of lemon tea')\n",
        "    if not cold_ot: # hot lemon tea\n",
        "        return 15.0 * sandwich + 10.0 * lemon_tea\n",
        "    else:\n",
        "        return 15.0 * sandwich + 12.0 * lemon_tea\n",
        "print(your_bill(1, 2))\n",
        "print(your_bill(1, 2, True))"
      ],
      "execution_count": null,
      "outputs": [
        {
          "output_type": "stream",
          "name": "stdout",
          "text": [
            "Hello Welcome to mini coffee con\n",
            "you have ordered 1 sandwiches, and 2 cup of lemon tea\n",
            "35.0\n",
            "Hello Welcome to mini coffee con\n",
            "you have ordered 1 sandwiches, and 2 cup of lemon tea\n",
            "39.0\n"
          ]
        }
      ]
    },
    {
      "cell_type": "code",
      "metadata": {
        "id": "TefmU167Vqk-",
        "colab": {
          "base_uri": "https://localhost:8080/"
        },
        "outputId": "f697bb7d-91ff-47d2-d54e-26a59a0fa52a"
      },
      "source": [
        "# You can skip earlier parameter and set the later\n",
        "def your_bill(sandwich, lemon_tea, cold_ot=False, show_details=False):\n",
        "    if show_details:\n",
        "        print('Hello Welcome to mini coffee con')\n",
        "        print(f'you have ordered {sandwich} sandwiches, and {lemon_tea} cup of {\"cold\" if cold_ot else \"hot\"} lemon tea')\n",
        "    if not cold_ot: # hot lemon tea\n",
        "        return 15.0 * sandwich + 10.0 * lemon_tea\n",
        "    else:\n",
        "        return 15.0 * sandwich + 12.0 * lemon_tea\n",
        "print(your_bill(1, 2, show_details=True))"
      ],
      "execution_count": null,
      "outputs": [
        {
          "output_type": "stream",
          "name": "stdout",
          "text": [
            "Hello Welcome to mini coffee con\n",
            "you have ordered 1 sandwiches, and 2 cup of hot lemon tea\n",
            "35.0\n"
          ]
        }
      ]
    },
    {
      "cell_type": "code",
      "source": [
        "print(your_bill(1, 2))"
      ],
      "metadata": {
        "id": "j62GGJ6yFAAg",
        "colab": {
          "base_uri": "https://localhost:8080/"
        },
        "outputId": "2d334632-42e1-4fa4-f358-7ff6b53b02c6"
      },
      "execution_count": null,
      "outputs": [
        {
          "output_type": "stream",
          "name": "stdout",
          "text": [
            "35.0\n"
          ]
        }
      ]
    },
    {
      "cell_type": "code",
      "source": [
        "print(your_bill(1, 2, show_details=True))"
      ],
      "metadata": {
        "id": "fsgbmGFfWA-B",
        "colab": {
          "base_uri": "https://localhost:8080/"
        },
        "outputId": "d10a2b79-b9e4-4234-b717-67e225022cf5"
      },
      "execution_count": null,
      "outputs": [
        {
          "output_type": "stream",
          "name": "stdout",
          "text": [
            "Hello Welcome to mini coffee con\n",
            "you have ordered 1 sandwiches, and 2 cup of hot lemon tea\n",
            "35.0\n"
          ]
        }
      ]
    },
    {
      "cell_type": "markdown",
      "metadata": {
        "id": "uaAd68MpSGkq"
      },
      "source": [
        "try / except"
      ]
    },
    {
      "cell_type": "code",
      "metadata": {
        "id": "Y0icSpUXWRji"
      },
      "source": [
        "sandwich = 'Three'\n",
        "print(f'you have ordered {sandwich} sandwiches')\n",
        "bill = 15.0 * sandwich\n",
        "print(f'Your bill is ${bill}')"
      ],
      "execution_count": null,
      "outputs": []
    },
    {
      "cell_type": "code",
      "metadata": {
        "id": "7146s75xSGkr"
      },
      "source": [
        "sandwich = 'Three'\n",
        "try:\n",
        "    print(f'you have ordered {sandwich} sandwiches')\n",
        "    bill = 15.0 * sandwich\n",
        "except:\n",
        "    print('ERROR !')\n",
        "    bill = -1\n",
        "\n",
        "print(f'Your bill is ${bill}')"
      ],
      "execution_count": null,
      "outputs": []
    },
    {
      "cell_type": "code",
      "metadata": {
        "id": "2N8P7-_gV3VR"
      },
      "source": [
        "# again, with outputting the error\n",
        "sandwich = 'Three'\n",
        "try:\n",
        "    # print(f'you have ordered {sandwich} sandwiches')\n",
        "    bill = 15.0 * sandwich\n",
        "except Exception as e:\n",
        "    print(str(e))\n",
        "    print(f'Error: {str(e)}')\n",
        "    # bill = -1\n",
        "\n",
        "# print(f'Your bill is ${bill}')"
      ],
      "execution_count": null,
      "outputs": []
    },
    {
      "cell_type": "markdown",
      "source": [
        "# Let Gen-AI help you !\n",
        "\n",
        "Demostrate with the mini-Coffee Con function.\n",
        "\n",
        "```python\n",
        "def your_bill(sandwich, lemon_tea, cold_ot=False, show_details=False):\n",
        "    if show_details:\n",
        "        print('Hello Welcome to mini coffee con')\n",
        "        print(f'you have ordered {sandwich} sandwiches, and {lemon_tea} cup of {\"cold\" if cold_ot else \"hot\"} lemon tea')\n",
        "    if not cold_ot: # hot lemon tea\n",
        "        return 15.0 * sandwich + 10.0 * lemon_tea\n",
        "    else:\n",
        "        return 15.0 * sandwich + 12.0 * lemon_tea\n",
        "```\n",
        "\n"
      ],
      "metadata": {
        "id": "1t6r14GhcET9"
      }
    },
    {
      "cell_type": "code",
      "source": [
        "def your_bill(sandwich, lemon_tea, cold_ot=False, show_details=False):\n",
        "    if show_details:\n",
        "        print('Hello Welcome to mini coffee con')\n",
        "        print(f'you have ordered {sandwich} sandwiches, and {lemon_tea} cup of {\"cold\" if cold_ot else \"hot\"} lemon tea')\n",
        "    if not cold_ot: # hot lemon tea\n",
        "        return 15.0 * sandwich + 10.0 * lemon_tea\n",
        "    else:\n",
        "        return 15.0 * sandwich + 12.0 * lemon_tea"
      ],
      "metadata": {
        "id": "SGD2XTRjcNkC"
      },
      "execution_count": null,
      "outputs": []
    },
    {
      "cell_type": "markdown",
      "metadata": {
        "id": "-AJhpwiVWv0N"
      },
      "source": [
        "# Packages\n",
        "\n",
        "Welcome to refer here - in [Python Documentation](https://docs.python.org/3/tutorial/stdlib.html)"
      ]
    },
    {
      "cell_type": "code",
      "metadata": {
        "id": "g-GKncoQWyss"
      },
      "source": [
        "import os\n",
        "import sys\n",
        "import math"
      ],
      "execution_count": null,
      "outputs": []
    },
    {
      "cell_type": "code",
      "source": [
        "print(os.getcwd())"
      ],
      "metadata": {
        "id": "w-A9v65yKTFx"
      },
      "execution_count": null,
      "outputs": []
    },
    {
      "cell_type": "code",
      "source": [
        "open('demo.txt').read()"
      ],
      "metadata": {
        "id": "sLK9MuCzKW4K"
      },
      "execution_count": null,
      "outputs": []
    },
    {
      "cell_type": "code",
      "source": [
        "print(os.listdir())"
      ],
      "metadata": {
        "id": "yJTmHlkGKzww"
      },
      "execution_count": null,
      "outputs": []
    },
    {
      "cell_type": "code",
      "source": [
        "!dir"
      ],
      "metadata": {
        "id": "44_w_j17K47V"
      },
      "execution_count": null,
      "outputs": []
    },
    {
      "cell_type": "code",
      "source": [
        "print(os.getcwd())\n",
        "print(os.listdir())"
      ],
      "metadata": {
        "id": "5SR4fHFtu9le"
      },
      "execution_count": null,
      "outputs": []
    },
    {
      "cell_type": "code",
      "source": [
        "print(os.listdir('sample_data'))"
      ],
      "metadata": {
        "id": "MmLhpJqDjBgc"
      },
      "execution_count": null,
      "outputs": []
    },
    {
      "cell_type": "code",
      "source": [
        "open('/content/sample_data/README.md').read()"
      ],
      "metadata": {
        "id": "cnYNDFISKgmc"
      },
      "execution_count": null,
      "outputs": []
    },
    {
      "cell_type": "markdown",
      "metadata": {
        "id": "6SSTev4tSGlR"
      },
      "source": [
        "# Strings"
      ]
    },
    {
      "cell_type": "code",
      "metadata": {
        "id": "GwfHEGOzSGlS"
      },
      "source": [
        "# Get the letter from a string\n",
        "fruit = 'banana'\n",
        "letter = fruit[1]\n",
        "print(letter)"
      ],
      "execution_count": null,
      "outputs": []
    },
    {
      "cell_type": "code",
      "metadata": {
        "id": "mcFwKRGiXMyM"
      },
      "source": [
        "# Can use variables to tune your position\n",
        "x = 3\n",
        "w = fruit[x - 1]\n",
        "print(w)"
      ],
      "execution_count": null,
      "outputs": []
    },
    {
      "cell_type": "code",
      "metadata": {
        "id": "X7FhDACWXOp0"
      },
      "source": [
        "# Error if out of range\n",
        "print(fruit[10])"
      ],
      "execution_count": null,
      "outputs": []
    },
    {
      "cell_type": "code",
      "metadata": {
        "id": "U1Rf2_zoXhtq"
      },
      "source": [
        "# length of the string\n",
        "print(len(fruit))"
      ],
      "execution_count": null,
      "outputs": []
    },
    {
      "cell_type": "code",
      "metadata": {
        "id": "5_1J2AllXjqq"
      },
      "source": [
        "# for loop for each character\n",
        "for letter in fruit:\n",
        "    print(letter)"
      ],
      "execution_count": null,
      "outputs": []
    },
    {
      "cell_type": "markdown",
      "metadata": {
        "id": "kRGUZuaaSGlc"
      },
      "source": [
        "Slicing"
      ]
    },
    {
      "cell_type": "code",
      "metadata": {
        "id": "qubJ3Fp_SGld",
        "colab": {
          "base_uri": "https://localhost:8080/"
        },
        "outputId": "b592c645-1edb-4889-e94f-fbb5c941e982"
      },
      "source": [
        "s = 'Writing Python'\n",
        "print(s[0:4]) # Writ\n",
        "print(s[6:7]) # g\n",
        "print(s[6:20]) # g_Python\n",
        "print(s[:2]) # Wr\n",
        "print(s[8:]) # Python\n",
        "print(s[:]) # Writing_Python"
      ],
      "execution_count": null,
      "outputs": [
        {
          "output_type": "stream",
          "name": "stdout",
          "text": [
            "Writ\n",
            "g\n",
            "g Python\n",
            "Wr\n",
            "Python\n",
            "Writing Python\n"
          ]
        }
      ]
    },
    {
      "cell_type": "markdown",
      "metadata": {
        "id": "nay0EpKvSGlj"
      },
      "source": [
        "Concatenation"
      ]
    },
    {
      "cell_type": "code",
      "metadata": {
        "id": "UM29zcDESGlk"
      },
      "source": [
        "str1 = 'Hello'\n",
        "str2 = str1 + 'There'\n",
        "print(str2)\n",
        "str2_1 = str1 + ' ' + 'There'\n",
        "print(str2_1)"
      ],
      "execution_count": null,
      "outputs": []
    },
    {
      "cell_type": "markdown",
      "metadata": {
        "id": "XgO5U-_2SGlv"
      },
      "source": [
        "Logical Operation"
      ]
    },
    {
      "cell_type": "code",
      "metadata": {
        "id": "BEaMS7aTSGlw"
      },
      "source": [
        "# \"in\" operator usage\n",
        "fruit = 'banana'\n",
        "print('n' in fruit)\n",
        "print('m' in fruit)\n",
        "print('nan' in fruit)\n",
        "if 'a' in fruit:\tprint('Found it!')"
      ],
      "execution_count": null,
      "outputs": []
    },
    {
      "cell_type": "code",
      "metadata": {
        "id": "WGisrIEDY_I5"
      },
      "source": [
        "# String comparison\n",
        "word = 'apple'\n",
        "if word < 'banana':\n",
        "    print('Your word, ' + word + ', comes before banana.')\n",
        "elif word > 'banana':\n",
        "    print('Your word, ' + word + ', comes after banana.')\n",
        "else:\n",
        "    print('All right, bananas.')"
      ],
      "execution_count": null,
      "outputs": []
    },
    {
      "cell_type": "markdown",
      "metadata": {
        "id": "NyKmsfxvSGl3"
      },
      "source": [
        "Strings methods"
      ]
    },
    {
      "cell_type": "code",
      "metadata": {
        "id": "sJOpE-hDSGl5"
      },
      "source": [
        "# find a substring\n",
        "fruit = 'Strawberry'\n",
        "print(fruit.find('raw'))\n",
        "print(fruit.find('z')) # if you cannot find"
      ],
      "execution_count": null,
      "outputs": []
    },
    {
      "cell_type": "code",
      "metadata": {
        "id": "RHdMtCiwZbMa"
      },
      "source": [
        "# Case conversion\n",
        "print(fruit.upper())\n",
        "print(fruit.lower())\n",
        "# Replace string\n",
        "print(fruit.replace('Straw','Blue'))\n",
        "# check the starting char\n",
        "print(fruit.startswith('Straw'), fruit.startswith('S'))\n",
        "print(fruit.endswith('berry'), fruit.endswith('y'))"
      ],
      "execution_count": null,
      "outputs": []
    },
    {
      "cell_type": "code",
      "metadata": {
        "id": "KZQQxkBHZxU4"
      },
      "source": [
        "# Trimming spaces\n",
        "fruit_fat = '   Strawberry Blueberry  '\n",
        "print(fruit_fat.lstrip(), '|', fruit_fat.rstrip(), '|', fruit_fat.strip())"
      ],
      "execution_count": null,
      "outputs": []
    },
    {
      "cell_type": "markdown",
      "source": [
        "Unicode"
      ],
      "metadata": {
        "id": "CsWob3WdUw1X"
      }
    },
    {
      "cell_type": "code",
      "source": [
        "print('草莓'.encode(\"unicode_escape\"))\n",
        "print('\\u8349\\u8393')"
      ],
      "metadata": {
        "id": "SkOs5k3a1sqm"
      },
      "execution_count": null,
      "outputs": []
    },
    {
      "cell_type": "markdown",
      "source": [
        "Escape Characters"
      ],
      "metadata": {
        "id": "T-yIW9BuVKNG"
      }
    },
    {
      "cell_type": "code",
      "source": [
        "print('Hello\\nWorld')"
      ],
      "metadata": {
        "id": "YmGf5Oz039w3"
      },
      "execution_count": null,
      "outputs": []
    },
    {
      "cell_type": "code",
      "source": [
        "'Hello\\nWorld'"
      ],
      "metadata": {
        "id": "KdH6jHVqumT8"
      },
      "execution_count": null,
      "outputs": []
    },
    {
      "cell_type": "markdown",
      "metadata": {
        "id": "cBxAYZKsSGmG"
      },
      "source": [
        "# Datetime"
      ]
    },
    {
      "cell_type": "code",
      "source": [
        "from datetime import datetime as dt\n",
        "import time"
      ],
      "metadata": {
        "id": "Z_hPvZ8qt0P-"
      },
      "execution_count": null,
      "outputs": []
    },
    {
      "cell_type": "code",
      "metadata": {
        "id": "nTVR_KUOaGq5"
      },
      "source": [
        "import datetime as dt\n",
        "\n",
        "# datetime now\n",
        "dtnow = dt.datetime.now()\n",
        "print(dt.datetime.now())\n",
        "print(type(dtnow))\n",
        "print(dtnow.year, dtnow.month, dtnow.day, dtnow.hour, dtnow.minute, dtnow.second)"
      ],
      "execution_count": null,
      "outputs": []
    },
    {
      "cell_type": "code",
      "metadata": {
        "id": "TjCRDdNgaMU5"
      },
      "source": [
        "# date now\n",
        "today = dt.date.today()\n",
        "print(type(today))\n",
        "print(today)"
      ],
      "execution_count": null,
      "outputs": []
    },
    {
      "cell_type": "code",
      "metadata": {
        "id": "0wewK3FGaYC4"
      },
      "source": [
        "# datetime arithmetic, use timedelta object\n",
        "delta = dt.timedelta(days = 100)\n",
        "# print(delta)\n",
        "# print(today - delta)\n",
        "print(today > today - delta)"
      ],
      "execution_count": null,
      "outputs": []
    },
    {
      "cell_type": "code",
      "metadata": {
        "id": "TmETfs6Zagco"
      },
      "source": [
        "# This is error\n",
        "today - 100"
      ],
      "execution_count": null,
      "outputs": []
    },
    {
      "cell_type": "code",
      "metadata": {
        "id": "mxxRczQYSGmJ"
      },
      "source": [
        "# String to datetime\n",
        "date0 = dt.datetime.strptime('2019-01-02 03:04:05', '%Y-%m-%d %H:%M:%S')\n",
        "print(dt.datetime.strftime(dtnow, '%H:%M:%S %Y%m%d'))"
      ],
      "execution_count": null,
      "outputs": []
    },
    {
      "cell_type": "code",
      "metadata": {
        "id": "8cAafy6_SGmT"
      },
      "source": [
        "import time\n",
        "# time package is for timer use\n",
        "\n",
        "# UNIX time\n",
        "print(time.time())\n",
        "print(time.gmtime(0))\n",
        "\n",
        "starttime = time.time()\n",
        "time.sleep(10)\n",
        "endtime = time.time()\n",
        "print(endtime-starttime, 'sec past.')"
      ],
      "execution_count": null,
      "outputs": []
    },
    {
      "cell_type": "markdown",
      "metadata": {
        "id": "-pEwJQIueab-"
      },
      "source": [
        "# Connecting to Google Drive\n",
        "You can press the folder icon => google drive icon"
      ]
    },
    {
      "cell_type": "code",
      "metadata": {
        "id": "tAVcC-fPeEtT"
      },
      "source": [
        "from google.colab import drive\n",
        "drive.mount('/content/drive')"
      ],
      "execution_count": null,
      "outputs": []
    },
    {
      "cell_type": "code",
      "metadata": {
        "id": "xssPaGzve1W9"
      },
      "source": [
        "import os\n",
        "\n",
        "# Your original folder\n",
        "gdrive_folder = 'CUHK_STAT5106_2025/Week 2 - Sept 11'\n",
        "os.chdir(f'/content/drive/My Drive/{gdrive_folder}')"
      ],
      "execution_count": null,
      "outputs": []
    },
    {
      "cell_type": "code",
      "metadata": {
        "id": "71n3DWpfc1vX"
      },
      "source": [
        "os.getcwd()"
      ],
      "execution_count": null,
      "outputs": []
    },
    {
      "cell_type": "code",
      "metadata": {
        "id": "nJ_tpfeWe6Q2"
      },
      "source": [
        "os.listdir()"
      ],
      "execution_count": null,
      "outputs": []
    },
    {
      "cell_type": "markdown",
      "metadata": {
        "id": "TG4yz3ArftuO"
      },
      "source": [
        "# Running Python Programs files .py\n",
        "Reference: https://www.hackerrank.com/challenges/staircase/problem\n",
        "\n",
        "\n",
        "Copy the following into your new file called staircase.py\n",
        "```\n",
        "num_stairs = 10\n",
        "\n",
        "for stairs in range(1, num_stairs + 1):\n",
        "    print(' ' * (num_stairs - stairs) + '#' * stairs)\n",
        "```\n",
        "\n"
      ]
    },
    {
      "cell_type": "code",
      "metadata": {
        "id": "-7KEijGvf2QU"
      },
      "source": [
        "# run the following\n",
        "!python staircase.py"
      ],
      "execution_count": null,
      "outputs": []
    },
    {
      "cell_type": "code",
      "metadata": {
        "id": "h2t9DFIog-F1"
      },
      "source": [
        "import staircase"
      ],
      "execution_count": null,
      "outputs": []
    },
    {
      "cell_type": "markdown",
      "source": [
        "# Make fun with Python"
      ],
      "metadata": {
        "id": "mRtyMz42wlPy"
      }
    },
    {
      "cell_type": "markdown",
      "source": [
        "Zen of Python ([wiki](https://zh.wikipedia.org/zh-hk/Python%E4%B9%8B%E7%A6%85))"
      ],
      "metadata": {
        "id": "sa-7EGuLw9vr"
      }
    },
    {
      "cell_type": "code",
      "source": [
        "import this"
      ],
      "metadata": {
        "id": "FEfX90c9wktK"
      },
      "execution_count": null,
      "outputs": []
    },
    {
      "cell_type": "markdown",
      "source": [
        "Emoji: Allows you to use emojis in your Python code. ([github](https://github.com/carpedm20/emoji))"
      ],
      "metadata": {
        "id": "RAgrfK_qxxw9"
      }
    },
    {
      "cell_type": "code",
      "source": [
        "!pip install emoji\n",
        "\n",
        "import emoji\n",
        "print(emoji.emojize(\"Python is fun :snake:\"))"
      ],
      "metadata": {
        "id": "aHMQwpOFxE3N"
      },
      "execution_count": null,
      "outputs": []
    },
    {
      "cell_type": "markdown",
      "source": [
        "PyFiglet: Generate ASCII art from text. ([github](https://github.com/pwaller/pyfiglet))"
      ],
      "metadata": {
        "id": "Y20ygNv5yVH-"
      }
    },
    {
      "cell_type": "code",
      "source": [
        "!pip install pyfiglet\n",
        "\n",
        "import pyfiglet\n",
        "print(pyfiglet.figlet_format(\"STAT5106!\"))"
      ],
      "metadata": {
        "id": "xXT9JpNex9kI"
      },
      "execution_count": null,
      "outputs": []
    },
    {
      "cell_type": "markdown",
      "source": [
        "CowSay: Adds speech bubbles to ASCII cows and other animals. ([github](https://github.com/VaasuDevanS/cowsay-python))"
      ],
      "metadata": {
        "id": "PEnORgkGyw4t"
      }
    },
    {
      "cell_type": "code",
      "source": [
        "!pip install cowsay\n",
        "\n",
        "import cowsay\n",
        "cowsay.cow(\"人冇夢想同咸魚有乜分別!\")"
      ],
      "metadata": {
        "id": "FzT06matyvkq"
      },
      "execution_count": null,
      "outputs": []
    },
    {
      "cell_type": "markdown",
      "source": [
        "PyPokedex: get data from Pokemon API ([github](https://github.com/arnavb/pypokedex))"
      ],
      "metadata": {
        "id": "S7qnZlQ99CAk"
      }
    },
    {
      "cell_type": "code",
      "source": [
        "!pip install pypokedex\n",
        "\n",
        "import pypokedex\n",
        "p = pypokedex.get(name='pikachu')"
      ],
      "metadata": {
        "id": "eVDf_uWc9RyG"
      },
      "execution_count": null,
      "outputs": []
    },
    {
      "cell_type": "code",
      "source": [
        "p.__dict__.keys()"
      ],
      "metadata": {
        "id": "YGO3XMbt-a07"
      },
      "execution_count": null,
      "outputs": []
    },
    {
      "cell_type": "code",
      "source": [
        "p.dex, p.name"
      ],
      "metadata": {
        "id": "aXxeeIc6-WIW"
      },
      "execution_count": null,
      "outputs": []
    },
    {
      "cell_type": "code",
      "source": [
        "p_img_url = p.other_sprites['home'].front['default']"
      ],
      "metadata": {
        "id": "UaD5AiWl90Sy"
      },
      "execution_count": null,
      "outputs": []
    },
    {
      "cell_type": "code",
      "source": [
        "from io import BytesIO\n",
        "import requests\n",
        "from PIL import Image\n",
        "from IPython.display import display\n",
        "\n",
        "# Fetch the image\n",
        "response = requests.get(p_img_url)\n",
        "image = Image.open(BytesIO(response.content))\n",
        "\n",
        "# Display the image\n",
        "display(image)"
      ],
      "metadata": {
        "id": "sJsBECOE-klk"
      },
      "execution_count": null,
      "outputs": []
    },
    {
      "cell_type": "code",
      "source": [],
      "metadata": {
        "id": "VVViUEaHekHt"
      },
      "execution_count": null,
      "outputs": []
    }
  ]
}